{
 "cells": [
  {
   "cell_type": "markdown",
   "id": "efa8eb58",
   "metadata": {},
   "source": [
    "## Import libraries"
   ]
  },
  {
   "cell_type": "code",
   "execution_count": 1,
   "id": "ca7b1c1a",
   "metadata": {},
   "outputs": [],
   "source": [
    "import pandas as pd\n",
    "import numpy as np\n",
    "import matplotlib.pyplot as plt\n",
    "import seaborn as sns\n",
    "import os\n",
    "import cv2 "
   ]
  },
  {
   "cell_type": "markdown",
   "id": "7592c65a",
   "metadata": {},
   "source": [
    "## Import image"
   ]
  },
  {
   "cell_type": "code",
   "execution_count": 7,
   "id": "23b2f07e",
   "metadata": {},
   "outputs": [],
   "source": [
    "# X is the noisy image\n",
    "noise_image = cv2.imread('images/noise1.png')\n",
    "noise_image = cv2.cvtColor(noise_image, cv2.COLOR_BGR2RGB)\n",
    "\n",
    "r, g, b = noise_image[:, :, 0], noise_image[:, :, 1], noise_image[:, :, 2]\n"
   ]
  },
  {
   "cell_type": "markdown",
   "id": "edd5ea68",
   "metadata": {},
   "source": [
    "### Median filter"
   ]
  },
  {
   "cell_type": "code",
   "execution_count": null,
   "id": "1873352d",
   "metadata": {},
   "outputs": [],
   "source": [
    "def median_filter(image, kernel_size):\n",
    "    if kernel_size % 2 == 0:\n",
    "        raise ValueError(\"Kernel size must be odd.\")\n",
    "    if kernel_size < 1:\n",
    "        raise ValueError(\"Kernel size must be greater than 0.\")\n",
    "    if not isinstance(image, np.ndarray):\n",
    "        raise TypeError(\"Image must be a numpy array.\")\n",
    "    if image.ndim != 2:\n",
    "        raise ValueError(\"Image must be a 2D array.\")\n",
    "    if not isinstance(kernel_size, int):\n",
    "        raise TypeError(\"Kernel size must be an integer.\")\n",
    "    \n",
    "\n",
    "\n",
    "    pad_width = kernel_size // 2\n",
    "    # Pad the image to handle borders with the same pixel values\n",
    "    # as the nearest pixel\n",
    "    # This is done to avoid introducing artifacts at the borders\n",
    "    # of the image when applying the filter\n",
    "    # The mode 'edge' pads with the nearest pixel value\n",
    "    padded_image = np.pad(image, pad_width, mode='edge')\n",
    "    filtered_image = np.zeros_like(image)\n",
    "\n",
    "    for i in range(image.shape[0]):\n",
    "        for j in range(image.shape[1]):\n",
    "            window = padded_image[i:i + kernel_size, j:j + kernel_size]\n",
    "            filtered_image[i, j] = np.median(window)\n",
    "\n",
    "    return filtered_image"
   ]
  },
  {
   "cell_type": "markdown",
   "id": "70165e35",
   "metadata": {},
   "source": [
    "### Adaptive process"
   ]
  },
  {
   "cell_type": "code",
   "execution_count": null,
   "id": "cb99036b",
   "metadata": {},
   "outputs": [],
   "source": [
    "def theta_first_indices_k_smallest_elements(v, k):\n",
    "    if not isinstance(v, np.ndarray):\n",
    "        raise TypeError(\"Input must be a numpy array.\")\n",
    "    if not isinstance(k, int):\n",
    "        raise TypeError(\"k must be an integer.\")\n",
    "    if k <= 0:\n",
    "        raise ValueError(\"k must be greater than 0.\")\n",
    "    if k > len(v):\n",
    "        raise ValueError(\"k must be less than or equal to the length of the array.\")\n",
    "    if v.ndim != 1:\n",
    "        raise ValueError(\"Input array must be 1D.\")\n",
    "    if len(v) == 0:\n",
    "        raise ValueError(\"Input array must not be empty.\")\n",
    "\n",
    "    # Get the indices of the sorted array\n",
    "    sorted_indices = np.argsort(v)\n",
    "    # Get the sorted values\n",
    "    sorted_values = np.sort(v)\n",
    "\n",
    "    # Return the first k indices\n",
    "    return sorted_indices[:k]\n",
    " \n",
    "    \n",
    "\n",
    "def adaptive_processor(X, Y, E1, a=1,b=1):\n",
    "    if (a<=0):\n",
    "        raise ValueError(\"a must be greater than 0.\")\n",
    "    if (b<0):\n",
    "        raise ValueError(\"b must be greater than or equal to 0.\")\n",
    "    if (E1.shape != Y.shape):\n",
    "        raise ValueError(\"error_index_matrix must have the same shape as filtered_image.\")\n",
    "    if (not isinstance(Y, np.ndarray)):\n",
    "        raise TypeError(\"filtered_image must be a numpy array.\")\n",
    "    if (not isinstance(E1, np.ndarray)):\n",
    "        raise TypeError(\"error_index_matrix must be a numpy array.\")\n",
    "    if (Y.ndim != 2):\n",
    "        raise ValueError(\"filtered_image must be a 2D array.\")\n",
    "    if (E1.ndim != 2):\n",
    "        raise ValueError(\"error_index_matrix must be a 2D array.\")\n",
    "    if (Y.shape[0] != E1.shape[0]):\n",
    "        raise ValueError(\"filtered_image and error_index_matrix must have the same number of rows.\")\n",
    "    if (Y.shape[1] != E1.shape[1]):\n",
    "        raise ValueError(\"filtered_image and error_index_matrix must have the same number of columns.\")\n",
    "    M,N = Y.shape \n",
    "    Lmbda_columnwise = np.sum(E1) / N\n",
    "    lmbda = np.sum(E1, axis=0) / M \n",
    "    eta = a*np.std(lmbda) \n",
    "    newY =np.copy(Y)\n",
    "\n",
    "    for n in range(N): \n",
    "        if (lmbda[n]-Lmbda_columnwise) > eta:\n",
    "            e = X[:,n] - Y[:,n]\n",
    "            K = lmbda[n] - Lmbda_columnwise + b*np.std(lmbda) \n",
    "            v=theta_first_indices_k_smallest_elements(np.transpose(e), K) \n",
    "            for m in v:\n",
    "                newY[m,n] = X[m,n] \n",
    "            \n",
    "    return newY\n"
   ]
  },
  {
   "cell_type": "markdown",
   "id": "a9630bee",
   "metadata": {},
   "source": [
    "### Omega operator"
   ]
  },
  {
   "cell_type": "code",
   "execution_count": null,
   "id": "eeab1333",
   "metadata": {},
   "outputs": [],
   "source": [
    "def omega_operator(X):\n",
    "    if not isinstance(X, np.ndarray):\n",
    "        raise TypeError(\"Input must be a numpy array.\")\n",
    "    if X.ndim != 2:\n",
    "        raise ValueError(\"Input array must be 2D.\")\n",
    "    if len(X) == 0:\n",
    "        raise ValueError(\"Input array must not be empty.\")\n",
    "\n",
    "    M, N = X.shape\n",
    "    omega = np.zeros((M, N))\n",
    "\n",
    "    for i in range(M):\n",
    "        for j in range(N):\n",
    "            if (X[i,j] !=0):\n",
    "                omega[i, j] = 1\n",
    "            else:\n",
    "                omega[i, j] = 0\n",
    "    return omega"
   ]
  },
  {
   "cell_type": "markdown",
   "id": "994fcdc7",
   "metadata": {},
   "source": [
    "## Alogrithm"
   ]
  },
  {
   "cell_type": "code",
   "execution_count": null,
   "id": "3b95b552",
   "metadata": {},
   "outputs": [],
   "source": [
    "def filter(X):\n",
    "    W1 = 3\n",
    "    W2 = 5\n",
    "    Y = median_filter(noise_image, W1)\n",
    "    E1 = omega_operator(X-Y)\n",
    "    \n",
    "    Y1 = adaptive_processor(X, Y, E1)\n",
    "    E2 = omega_operator(Y1-Y)\n",
    "\n",
    "    Z = median_filter(Y1, W2) \n",
    "    for m in range(Z.shape[0]):\n",
    "        for n in range(Z.shape[1]):\n",
    "            if E2[m,n] == 1:\n",
    "                Z[m,n] = X[m,n] \n",
    "    return Z\n",
    "    "
   ]
  }
 ],
 "metadata": {
  "kernelspec": {
   "display_name": "venv",
   "language": "python",
   "name": "python3"
  },
  "language_info": {
   "codemirror_mode": {
    "name": "ipython",
    "version": 3
   },
   "file_extension": ".py",
   "mimetype": "text/x-python",
   "name": "python",
   "nbconvert_exporter": "python",
   "pygments_lexer": "ipython3",
   "version": "3.10.12"
  }
 },
 "nbformat": 4,
 "nbformat_minor": 5
}
